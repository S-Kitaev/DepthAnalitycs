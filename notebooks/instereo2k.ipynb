{
 "cells": [
  {
   "cell_type": "code",
   "execution_count": null,
   "id": "950dd9d5",
   "metadata": {},
   "outputs": [],
   "source": [
    "import sys\n",
    "\n",
    "import matplotlib.pyplot as plt\n",
    "import numpy as np\n",
    "import torch\n",
    "\n",
    "sys.path.append(\"..\")\n",
    "\n",
    "from datasets.instereo2k import InStereo2KDataset"
   ]
  },
  {
   "cell_type": "code",
   "execution_count": null,
   "id": "957633bf",
   "metadata": {},
   "outputs": [],
   "source": [
    "def show_triplet(sample, vmax=None):\n",
    "    \"\"\"Left RGB, Right RGB, and Disparity side by side.\"\"\"\n",
    "    left  = sample[\"left\"].permute(1,2,0).numpy()   # (H,W,3) in [0,1]\n",
    "    right = sample[\"right\"].permute(1,2,0).numpy()  # (H,W,3) in [0,1]\n",
    "\n",
    "    fig, axs = plt.subplots(1, 3, figsize=(15, 5))\n",
    "    axs[0].imshow(left)\n",
    "    axs[0].set_title(f\"Left  |  id={sample['id']}\")\n",
    "    axs[0].axis(\"off\")\n",
    "    axs[1].imshow(right)\n",
    "    axs[1].set_title(\"Right\")\n",
    "    axs[1].axis(\"off\")\n",
    "\n",
    "    if \"disp\" in sample:\n",
    "        disp = sample[\"disp\"].numpy()                # (H,W) float32 (pixels)\n",
    "        mask = sample.get(\"mask\", torch.ones_like(sample[\"disp\"], dtype=torch.bool)).numpy()\n",
    "        valid = np.isfinite(disp) & (disp > 0) & mask\n",
    "        if vmax is None:\n",
    "            vmax = np.percentile(disp[valid], 99) if valid.any() else float(np.max(disp))\n",
    "        im = axs[2].imshow(np.ma.masked_where(~valid, disp), cmap=\"turbo\", vmin=disp[disp > 0].min(), vmax=vmax)\n",
    "        axs[2].set_title(\"Disparity (px)  —  brighter = closer\")\n",
    "        axs[2].axis(\"off\")\n",
    "        cbar = fig.colorbar(im, ax=axs[2], fraction=0.046, pad=0.04)\n",
    "        cbar.set_label(\"pixels\")\n",
    "    else:\n",
    "        axs[2].text(0.5, 0.5, \"no disparity\", ha=\"center\", va=\"center\")\n",
    "        axs[2].axis(\"off\")\n",
    "\n",
    "    plt.tight_layout()\n",
    "    plt.show()\n",
    "\n",
    "def show_correspondence(sample, y=None, x=None):\n",
    "    \"\"\"Epipolar demo: pick (x,y) in left, show its match in right at x' = x - d(x,y).\"\"\"\n",
    "    left  = sample[\"left\"].permute(1,2,0).numpy()\n",
    "    right = sample[\"right\"].permute(1,2,0).numpy()\n",
    "    disp  = sample[\"disp\"].numpy()\n",
    "    mask  = sample[\"mask\"].numpy()\n",
    "    H, W = disp.shape\n",
    "\n",
    "    # choose a valid pixel near center if not provided\n",
    "    if y is None: \n",
    "        y = H // 2\n",
    "    if x is None:\n",
    "        xs = np.where(mask[y])[0]\n",
    "        if xs.size == 0:\n",
    "            # pick any valid pixel in image\n",
    "            ys = np.where(mask.any(axis=1))[0]\n",
    "            y = int(np.median(ys)) if ys.size else H // 2\n",
    "            xs = np.where(mask[y])[0]\n",
    "        x = int(xs[len(xs)//2]) if xs.size else W // 2\n",
    "\n",
    "    d = float(disp[y, x])\n",
    "    xr = int(round(x - d))  # left→right correspondence at same row y\n",
    "\n",
    "    fig, axs = plt.subplots(1, 2, figsize=(12, 4))\n",
    "    axs[0].imshow(left)\n",
    "    axs[0].axhline(y, color=\"lime\", ls=\"--\", lw=1)\n",
    "    axs[0].plot([x], [y], \"o\", color=\"yellow\")\n",
    "    axs[0].set_title(f\"Left: (x={x}, y={y})\")\n",
    "    axs[1].imshow(right)\n",
    "    axs[1].axhline(y, color=\"lime\", ls=\"--\", lw=1)\n",
    "    axs[1].plot([np.clip(xr,0,W-1)], [y], \"o\", color=\"yellow\")\n",
    "    axs[1].set_title(f\"Right: (x'≈x−d={xr}, y={y})  |  d={d:.1f}px\")\n",
    "    for a in axs:\n",
    "        a.axis(\"off\")\n",
    "    plt.tight_layout()\n",
    "    plt.show()"
   ]
  },
  {
   "cell_type": "code",
   "execution_count": null,
   "id": "900db503",
   "metadata": {},
   "outputs": [],
   "source": [
    "dataset = InStereo2KDataset(\n",
    "    root_dir=\"../data/instereo2k_sample\",\n",
    "    split=\"train\",\n",
    "    val_ratio=0.1,\n",
    "    load_disp=True,          # show disparity\n",
    "    disp_side=\"left\",\n",
    "    disp_divisor=100.0,      # set to 1.0 if PNG already stores pixel disparity\n",
    "    resize_hw=(416, 608),    # fixed size for easy batching/visuals; or None\n",
    ")"
   ]
  },
  {
   "cell_type": "code",
   "execution_count": null,
   "id": "977b3215",
   "metadata": {},
   "outputs": [],
   "source": [
    "# --- Preview a few random samples ---\n",
    "for i in np.random.randint(0, len(dataset), size=3):\n",
    "    sample = dataset[i]\n",
    "    show_triplet(sample)           # left, right, disparity\n",
    "    show_correspondence(sample)    # visualize one matching point along same scanline"
   ]
  },
  {
   "cell_type": "code",
   "execution_count": null,
   "id": "263937fb",
   "metadata": {},
   "outputs": [],
   "source": []
  }
 ],
 "metadata": {
  "kernelspec": {
   "display_name": "torch-mps",
   "language": "python",
   "name": "python3"
  },
  "language_info": {
   "codemirror_mode": {
    "name": "ipython",
    "version": 3
   },
   "file_extension": ".py",
   "mimetype": "text/x-python",
   "name": "python",
   "nbconvert_exporter": "python",
   "pygments_lexer": "ipython3",
   "version": "3.10.18"
  }
 },
 "nbformat": 4,
 "nbformat_minor": 5
}
